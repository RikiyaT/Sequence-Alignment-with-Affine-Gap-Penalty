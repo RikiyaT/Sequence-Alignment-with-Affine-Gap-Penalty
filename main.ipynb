{
 "cells": [
  {
   "cell_type": "code",
   "execution_count": 109,
   "metadata": {},
   "outputs": [
    {
     "name": "stdout",
     "output_type": "stream",
     "text": [
      "Requirement already satisfied: tabulate in /Users/rikiyatakehi/anaconda3/envs/myenv/lib/python3.11/site-packages (0.9.0)\n",
      "Note: you may need to restart the kernel to use updated packages.\n"
     ]
    }
   ],
   "source": [
    "%pip install tabulate"
   ]
  },
  {
   "cell_type": "code",
   "execution_count": 110,
   "metadata": {},
   "outputs": [
    {
     "name": "stdout",
     "output_type": "stream",
     "text": [
      "Requirement already satisfied: biopython in /Users/rikiyatakehi/anaconda3/envs/myenv/lib/python3.11/site-packages (1.81)\n",
      "Requirement already satisfied: numpy in /Users/rikiyatakehi/anaconda3/envs/myenv/lib/python3.11/site-packages (from biopython) (1.23.5)\n",
      "Note: you may need to restart the kernel to use updated packages.\n"
     ]
    }
   ],
   "source": [
    "%pip install biopython"
   ]
  },
  {
   "cell_type": "code",
   "execution_count": 111,
   "metadata": {},
   "outputs": [],
   "source": [
    "from Bio import SeqIO"
   ]
  },
  {
   "cell_type": "code",
   "execution_count": 112,
   "metadata": {},
   "outputs": [],
   "source": [
    "#input two DNA sequences\n",
    "a=\"CTTTGGACTTTTAC\"\n",
    "b=\"CACCTACGTT\"\n"
   ]
  },
  {
   "cell_type": "code",
   "execution_count": 113,
   "metadata": {},
   "outputs": [
    {
     "data": {
      "text/plain": [
       "'\\n#input two DNA sequences from fasta file\\na=SeqIO.read(\"query.fa\",\"fasta\")\\nb=SeqIO.read(\"mt.fa\",\"fasta\")\\n\\n\\n#get the first 100 bases of the query sequence\\na=a[0:100]\\nb=b[0:100]\\n\\n#initialize a and b to represent only the sequence\\na=a.seq\\nb=b.seq\\n'"
      ]
     },
     "execution_count": 113,
     "metadata": {},
     "output_type": "execute_result"
    }
   ],
   "source": [
    "#if you want to input from file activate this section\n",
    "\"\"\"\n",
    "#input two DNA sequences from fasta file\n",
    "a=SeqIO.read(\"query.fa\",\"fasta\")\n",
    "b=SeqIO.read(\"mt.fa\",\"fasta\")\n",
    "\n",
    "\n",
    "#get the first 100 bases of the query sequence\n",
    "a=a[0:100]\n",
    "b=b[0:100]\n",
    "\n",
    "#initialize a and b to represent only the sequence\n",
    "a=a.seq\n",
    "b=b.seq\n",
    "\"\"\"\n"
   ]
  },
  {
   "cell_type": "code",
   "execution_count": 114,
   "metadata": {},
   "outputs": [
    {
     "name": "stdout",
     "output_type": "stream",
     "text": [
      "CTTTGGACTTTTAC\n",
      "CACCTACGTT\n"
     ]
    }
   ],
   "source": [
    "print(a)\n",
    "print(b)"
   ]
  },
  {
   "cell_type": "code",
   "execution_count": 115,
   "metadata": {},
   "outputs": [],
   "source": [
    "#specify gap opening\n",
    "gap_op=-2\n",
    "gap_ex=-1\n",
    "\n",
    "#initialize matrices\n",
    "score_matrix = [[0 for x in range(len(b)+1)] for y in range(len(a)+1)]\n",
    "Fmatrix=[[0 for x in range(len(b)+1)] for y in range(len(a)+1)]\n",
    "Gmatrix=[[0 for x in range(len(b)+1)] for y in range(len(a)+1)]"
   ]
  },
  {
   "cell_type": "code",
   "execution_count": 116,
   "metadata": {},
   "outputs": [],
   "source": [
    "#matrix initialization\n",
    "Fmatrix[0][0] = Gmatrix[0][0] = 0\n",
    "for i in range(1,len(a)+1):\n",
    "        score_matrix[i][0]=gap_op+gap_ex*(i-1)\n",
    "        Gmatrix[i][0]=gap_op+gap_ex*(i-1)\n",
    "        Fmatrix[i][0]=-1000000\n",
    " \n",
    "for j in range(1,len(b)+1):\n",
    "       score_matrix[0][j]=gap_op+gap_ex*(j-1)\n",
    "       Fmatrix[0][j]=gap_op+gap_ex*(j-1)\n",
    "       Gmatrix[0][j]=-1000000"
   ]
  },
  {
   "cell_type": "code",
   "execution_count": 117,
   "metadata": {},
   "outputs": [
    {
     "data": {
      "text/plain": [
       "'\\nprint(score_matrix)\\nprint(Fmatrix.shape)\\nprint(Gmatrix.shape)\\n'"
      ]
     },
     "execution_count": 117,
     "metadata": {},
     "output_type": "execute_result"
    }
   ],
   "source": [
    "#If you want to check the matrix to this\n",
    "\"\"\"\n",
    "print(score_matrix)\n",
    "print(Fmatrix.shape)\n",
    "print(Gmatrix.shape)\n",
    "\"\"\""
   ]
  },
  {
   "cell_type": "code",
   "execution_count": 118,
   "metadata": {},
   "outputs": [],
   "source": [
    "#score calculation\n",
    "for i in range(1,len(a)+1):\n",
    "    for j in range(1,len(b)+1):\n",
    "        match=score_matrix[i-1][j-1]+1 if a[i-1]==b[j-1] else score_matrix[i-1][j-1]-1\n",
    "        delete=Fmatrix[i-1][j]+gap_ex\n",
    "        insert=Gmatrix[i][j-1]+gap_ex\n",
    "        Fmatrix[i][j]=max(score_matrix[i-1][j]+gap_op,delete)\n",
    "        Gmatrix[i][j]=max(score_matrix[i][j-1]+gap_op,insert)\n",
    "        score_matrix[i][j]=max(match, Fmatrix[i][j], Gmatrix[i][j])"
   ]
  },
  {
   "cell_type": "code",
   "execution_count": 119,
   "metadata": {},
   "outputs": [
    {
     "name": "stdout",
     "output_type": "stream",
     "text": [
      "---  ---  ---  --  --  --  --  --  --  ---  ---\n",
      "  0   -2   -3  -4  -5  -6  -7  -8  -9  -10  -11\n",
      " -2    1   -1  -2  -3  -4  -5  -6  -7   -8   -9\n",
      " -3   -1    0  -2  -3  -2  -4  -5  -6   -6   -7\n",
      " -4   -2   -2  -1  -3  -2  -3  -5  -6   -5   -5\n",
      " -5   -3   -3  -3  -2  -2  -3  -4  -6   -5   -4\n",
      " -6   -4   -4  -4  -4  -3  -3  -4  -3   -5   -6\n",
      " -7   -5   -5  -5  -5  -5  -4  -4  -3   -4   -6\n",
      " -8   -6   -4  -6  -6  -6  -4  -5  -5   -4   -5\n",
      " -9   -7   -6  -3  -5  -6  -6  -3  -5   -6   -5\n",
      "-10   -8   -7  -5  -4  -4  -6  -5  -4   -4   -5\n",
      "-11   -9   -8  -6  -6  -3  -5  -6  -6   -3   -3\n",
      "-12  -10   -9  -7  -7  -5  -4  -6  -7   -5   -2\n",
      "-13  -11  -10  -8  -8  -6  -6  -5  -7   -6   -4\n",
      "-14  -12  -10  -9  -9  -7  -5  -7  -6   -7   -5\n",
      "-15  -13  -12  -9  -8  -8  -7  -4  -6   -7   -6\n",
      "---  ---  ---  --  --  --  --  --  --  ---  ---\n"
     ]
    }
   ],
   "source": [
    "from tabulate import tabulate\n",
    "\n",
    "table=tabulate(score_matrix)\n",
    "print(table)"
   ]
  },
  {
   "cell_type": "code",
   "execution_count": 120,
   "metadata": {},
   "outputs": [
    {
     "name": "stdout",
     "output_type": "stream",
     "text": [
      "--------  ---  ---  ---  ---  --  --  --  ---  ---  ---\n",
      "       0   -2   -3   -4   -5  -6  -7  -8   -9  -10  -11\n",
      "-1000000   -3   -4   -5   -6  -7  -8  -9  -10  -11  -12\n",
      "-1000000   -1   -3   -4   -5  -6  -7  -8   -9  -10  -11\n",
      "-1000000   -2   -2   -4   -5  -4  -6  -7   -8   -8   -9\n",
      "-1000000   -3   -3   -3   -5  -4  -5  -7   -8   -7   -7\n",
      "-1000000   -4   -4   -4   -4  -4  -5  -6   -8   -7   -6\n",
      "-1000000   -5   -5   -5   -5  -5  -5  -6   -5   -7   -7\n",
      "-1000000   -6   -6   -6   -6  -6  -6  -6   -5   -6   -8\n",
      "-1000000   -7   -6   -7   -7  -7  -6  -7   -6   -6   -7\n",
      "-1000000   -8   -7   -5   -7  -8  -7  -5   -7   -7   -7\n",
      "-1000000   -9   -8   -6   -6  -6  -8  -6   -6   -6   -7\n",
      "-1000000  -10   -9   -7   -7  -5  -7  -7   -7   -5   -5\n",
      "-1000000  -11  -10   -8   -8  -6  -6  -8   -8   -6   -4\n",
      "-1000000  -12  -11   -9   -9  -7  -7  -7   -9   -7   -5\n",
      "-1000000  -13  -12  -10  -10  -8  -7  -8   -8   -8   -6\n",
      "--------  ---  ---  ---  ---  --  --  --  ---  ---  ---\n",
      "---  --------  --------  --------  --------  --------  --------  --------  --------  --------  --------\n",
      "  0  -1000000  -1000000  -1000000  -1000000  -1000000  -1000000  -1000000  -1000000  -1000000  -1000000\n",
      " -2        -3        -1        -2        -3        -4        -5        -6        -7        -8        -9\n",
      " -3        -4        -3        -2        -3        -4        -4        -5        -6        -7        -8\n",
      " -4        -5        -4        -4        -3        -4        -4        -5        -6        -7        -7\n",
      " -5        -6        -5        -5        -5        -4        -4        -5        -6        -7        -7\n",
      " -6        -7        -6        -6        -6        -6        -5        -5        -6        -5        -6\n",
      " -7        -8        -7        -7        -7        -7        -7        -6        -6        -5        -6\n",
      " -8        -9        -8        -6        -7        -8        -8        -6        -7        -7        -6\n",
      " -9       -10        -9        -8        -5        -6        -7        -8        -5        -6        -7\n",
      "-10       -11       -10        -9        -7        -6        -6        -7        -7        -6        -6\n",
      "-11       -12       -11       -10        -8        -8        -5        -6        -7        -8        -5\n",
      "-12       -13       -12       -11        -9        -9        -7        -6        -7        -8        -7\n",
      "-13       -14       -13       -12       -10       -10        -8        -8        -7        -8        -8\n",
      "-14       -15       -14       -12       -11       -11        -9        -7        -8        -8        -9\n",
      "-15       -16       -15       -14       -11       -10       -10        -9        -6        -7        -8\n",
      "---  --------  --------  --------  --------  --------  --------  --------  --------  --------  --------\n"
     ]
    }
   ],
   "source": [
    "#If you want to see the other matrices\n",
    "\n",
    "table_x=tabulate(Fmatrix)\n",
    "table_y=tabulate(Gmatrix)\n",
    "print(table_x)\n",
    "print(table_y)\n"
   ]
  },
  {
   "cell_type": "code",
   "execution_count": 121,
   "metadata": {},
   "outputs": [],
   "source": [
    "#traceback from bottom right corner\n",
    "aligned_a=\"\"\n",
    "aligned_b=\"\"\n",
    "\n",
    "i=len(a)\n",
    "j=len(b)\n",
    "\n",
    "while i>0 or j>0:\n",
    "    if score_matrix[i][j]==Fmatrix[i][j]:\n",
    "        aligned_a=a[i-1]+aligned_a\n",
    "        aligned_b=\"-\"+aligned_b\n",
    "        i-=1\n",
    "    elif score_matrix[i][j]==Gmatrix[i][j]:\n",
    "        aligned_a=\"-\"+aligned_a\n",
    "        aligned_b=b[j-1]+aligned_b\n",
    "        j-=1\n",
    "    else:\n",
    "        aligned_a=a[i-1]+aligned_a\n",
    "        aligned_b=b[j-1]+aligned_b\n",
    "        i-=1\n",
    "        j-=1\n"
   ]
  },
  {
   "cell_type": "code",
   "execution_count": 122,
   "metadata": {},
   "outputs": [
    {
     "name": "stdout",
     "output_type": "stream",
     "text": [
      "-6\n",
      "CTTTGGACTTTTAC\n",
      "CACCT-ACGTT---\n"
     ]
    }
   ],
   "source": [
    "print(score_matrix[len(a)][len(b)])\n",
    "print(aligned_a)\n",
    "print(aligned_b)"
   ]
  }
 ],
 "metadata": {
  "kernelspec": {
   "display_name": "Python 3",
   "language": "python",
   "name": "python3"
  },
  "language_info": {
   "codemirror_mode": {
    "name": "ipython",
    "version": 3
   },
   "file_extension": ".py",
   "mimetype": "text/x-python",
   "name": "python",
   "nbconvert_exporter": "python",
   "pygments_lexer": "ipython3",
   "version": "3.11.2"
  },
  "orig_nbformat": 4
 },
 "nbformat": 4,
 "nbformat_minor": 2
}
