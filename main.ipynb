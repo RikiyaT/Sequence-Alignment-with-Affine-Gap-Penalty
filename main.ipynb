{
 "cells": [
  {
   "cell_type": "code",
   "execution_count": 59,
   "metadata": {},
   "outputs": [
    {
     "name": "stdout",
     "output_type": "stream",
     "text": [
      "63159.55s - pydevd: Sending message related to process being replaced timed-out after 5 seconds\n",
      "Requirement already satisfied: tabulate in /Users/rikiyatakehi/anaconda3/envs/myenv/lib/python3.11/site-packages (0.9.0)\n",
      "Note: you may need to restart the kernel to use updated packages.\n"
     ]
    }
   ],
   "source": [
    "%pip install tabulate"
   ]
  },
  {
   "cell_type": "code",
   "execution_count": 52,
   "metadata": {},
   "outputs": [
    {
     "name": "stdout",
     "output_type": "stream",
     "text": [
      "63118.11s - pydevd: Sending message related to process being replaced timed-out after 5 seconds\n",
      "Requirement already satisfied: biopython in /Users/rikiyatakehi/anaconda3/envs/myenv/lib/python3.11/site-packages (1.81)\n",
      "Requirement already satisfied: numpy in /Users/rikiyatakehi/anaconda3/envs/myenv/lib/python3.11/site-packages (from biopython) (1.23.5)\n",
      "Note: you may need to restart the kernel to use updated packages.\n"
     ]
    }
   ],
   "source": [
    "%pip install biopython"
   ]
  },
  {
   "cell_type": "code",
   "execution_count": 53,
   "metadata": {},
   "outputs": [],
   "source": [
    "from Bio import SeqIO"
   ]
  },
  {
   "cell_type": "code",
   "execution_count": 82,
   "metadata": {},
   "outputs": [],
   "source": [
    "#input two DNA sequences\n",
    "a=\"CTTTTT\"\n",
    "b=\"CACCTACGTT\""
   ]
  },
  {
   "cell_type": "code",
   "execution_count": 83,
   "metadata": {},
   "outputs": [],
   "source": [
    "#specify gap opening\n",
    "gap_op=-2\n",
    "gap_ex=-1\n",
    "\n",
    "#initialize matrices\n",
    "score_matrix = [[0 for x in range(len(b)+1)] for y in range(len(a)+1)]\n",
    "Fmatrix=[[0 for x in range(len(b)+1)] for y in range(len(a)+1)]\n",
    "Gmatrix=[[0 for x in range(len(b)+1)] for y in range(len(a)+1)]"
   ]
  },
  {
   "cell_type": "code",
   "execution_count": 84,
   "metadata": {},
   "outputs": [],
   "source": [
    "#matrix initialization\n",
    "Fmatrix[0][0] = Gmatrix[0][0] = 0\n",
    "for i in range(1,len(a)+1):\n",
    "        score_matrix[i][0]=gap_op+gap_ex*(i-1)\n",
    "        Gmatrix[i][0]=gap_op+gap_ex*(i-1)\n",
    "        Fmatrix[i][0]=-10000\n",
    " \n",
    "for j in range(1,len(b)+1):\n",
    "       score_matrix[0][j]=gap_op+gap_ex*(j-1)\n",
    "       Fmatrix[0][j]=gap_op+gap_ex*(j-1)\n",
    "       Gmatrix[0][j]=-10000"
   ]
  },
  {
   "cell_type": "code",
   "execution_count": 85,
   "metadata": {},
   "outputs": [
    {
     "name": "stdout",
     "output_type": "stream",
     "text": [
      "[[0, -2, -3, -4, -5, -6, -7, -8, -9, -10, -11], [-2, 0, 0, 0, 0, 0, 0, 0, 0, 0, 0], [-3, 0, 0, 0, 0, 0, 0, 0, 0, 0, 0], [-4, 0, 0, 0, 0, 0, 0, 0, 0, 0, 0], [-5, 0, 0, 0, 0, 0, 0, 0, 0, 0, 0], [-6, 0, 0, 0, 0, 0, 0, 0, 0, 0, 0], [-7, 0, 0, 0, 0, 0, 0, 0, 0, 0, 0]]\n",
      "[[0, -2, -3, -4, -5, -6, -7, -8, -9, -10, -11], [-10000, 0, 0, 0, 0, 0, 0, 0, 0, 0, 0], [-10000, 0, 0, 0, 0, 0, 0, 0, 0, 0, 0], [-10000, 0, 0, 0, 0, 0, 0, 0, 0, 0, 0], [-10000, 0, 0, 0, 0, 0, 0, 0, 0, 0, 0], [-10000, 0, 0, 0, 0, 0, 0, 0, 0, 0, 0], [-10000, 0, 0, 0, 0, 0, 0, 0, 0, 0, 0]]\n",
      "[[0, -10000, -10000, -10000, -10000, -10000, -10000, -10000, -10000, -10000, -10000], [-2, 0, 0, 0, 0, 0, 0, 0, 0, 0, 0], [-3, 0, 0, 0, 0, 0, 0, 0, 0, 0, 0], [-4, 0, 0, 0, 0, 0, 0, 0, 0, 0, 0], [-5, 0, 0, 0, 0, 0, 0, 0, 0, 0, 0], [-6, 0, 0, 0, 0, 0, 0, 0, 0, 0, 0], [-7, 0, 0, 0, 0, 0, 0, 0, 0, 0, 0]]\n"
     ]
    }
   ],
   "source": [
    "print(score_matrix)\n",
    "print(Fmatrix)\n",
    "print(Gmatrix)"
   ]
  },
  {
   "cell_type": "code",
   "execution_count": 86,
   "metadata": {},
   "outputs": [],
   "source": [
    "#score calculation\n",
    "for i in range(1,len(a)+1):\n",
    "    for j in range(1,len(b)+1):\n",
    "        match=score_matrix[i-1][j-1]+1 if a[i-1]==b[j-1] else score_matrix[i-1][j-1]-1\n",
    "        delete=Fmatrix[i-1][j]+gap_ex\n",
    "        insert=Gmatrix[i][j-1]+gap_ex\n",
    "        Fmatrix[i][j]=max(score_matrix[i-1][j]+gap_op,delete)\n",
    "        Gmatrix[i][j]=max(score_matrix[i][j-1]+gap_op,insert)\n",
    "        score_matrix[i][j]=max(match, Fmatrix[i][j], Gmatrix[i][j])"
   ]
  },
  {
   "cell_type": "code",
   "execution_count": 87,
   "metadata": {},
   "outputs": [
    {
     "name": "stdout",
     "output_type": "stream",
     "text": [
      "--  --  --  --  --  --  --  --  --  ---  ---\n",
      " 0  -2  -3  -4  -5  -6  -7  -8  -9  -10  -11\n",
      "-2   1  -1  -2  -3  -4  -5  -6  -7   -8   -9\n",
      "-3  -1   0  -2  -3  -2  -4  -5  -6   -6   -7\n",
      "-4  -2  -2  -1  -3  -2  -3  -5  -6   -5   -5\n",
      "-5  -3  -3  -3  -2  -2  -3  -4  -6   -5   -4\n",
      "-6  -4  -4  -4  -4  -1  -3  -4  -5   -5   -4\n",
      "-7  -5  -5  -5  -5  -3  -2  -4  -5   -4   -4\n",
      "--  --  --  --  --  --  --  --  --  ---  ---\n"
     ]
    }
   ],
   "source": [
    "from tabulate import tabulate\n",
    "\n",
    "table=tabulate(score_matrix)\n",
    "print(table)"
   ]
  },
  {
   "cell_type": "code",
   "execution_count": 88,
   "metadata": {},
   "outputs": [],
   "source": [
    "#traceback from bottom right corner\n",
    "aligned_a=\"\"\n",
    "aligned_b=\"\"\n",
    "\n",
    "i=len(a)\n",
    "j=len(b)\n",
    "\n",
    "while i>0 or j>0:\n",
    "    if score_matrix[i][j]==Fmatrix[i][j]:\n",
    "        aligned_a=a[i-1]+aligned_a\n",
    "        aligned_b=\"-\"+aligned_b\n",
    "        i-=1\n",
    "    elif score_matrix[i][j]==Gmatrix[i][j]:\n",
    "        aligned_a=\"-\"+aligned_a\n",
    "        aligned_b=b[j-1]+aligned_b\n",
    "        j-=1\n",
    "    else:\n",
    "        aligned_a=a[i-1]+aligned_a\n",
    "        aligned_b=b[j-1]+aligned_b\n",
    "        i-=1\n",
    "        j-=1\n"
   ]
  },
  {
   "cell_type": "code",
   "execution_count": 89,
   "metadata": {},
   "outputs": [
    {
     "name": "stdout",
     "output_type": "stream",
     "text": [
      "-4\n",
      "C---TTT-TT\n",
      "CACCTACGTT\n"
     ]
    }
   ],
   "source": [
    "print(score_matrix[len(a)][len(b)])\n",
    "print(aligned_a)\n",
    "print(aligned_b)"
   ]
  },
  {
   "cell_type": "code",
   "execution_count": null,
   "metadata": {},
   "outputs": [],
   "source": []
  }
 ],
 "metadata": {
  "kernelspec": {
   "display_name": "Python 3",
   "language": "python",
   "name": "python3"
  },
  "language_info": {
   "codemirror_mode": {
    "name": "ipython",
    "version": 3
   },
   "file_extension": ".py",
   "mimetype": "text/x-python",
   "name": "python",
   "nbconvert_exporter": "python",
   "pygments_lexer": "ipython3",
   "version": "3.11.2"
  },
  "orig_nbformat": 4
 },
 "nbformat": 4,
 "nbformat_minor": 2
}
